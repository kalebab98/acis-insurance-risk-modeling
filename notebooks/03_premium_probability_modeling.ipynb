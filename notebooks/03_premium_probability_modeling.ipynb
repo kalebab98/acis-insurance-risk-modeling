{
 "cells": [
  {
   "cell_type": "code",
   "execution_count": 1,
   "id": "1f1cc461",
   "metadata": {},
   "outputs": [
    {
     "name": "stderr",
     "output_type": "stream",
     "text": [
      "c:\\Users\\Kaleb\\OneDrive\\Desktop\\insurance-risk-modeling\\acis-insurance-risk-modeling\\.venv\\Lib\\site-packages\\tqdm\\auto.py:21: TqdmWarning: IProgress not found. Please update jupyter and ipywidgets. See https://ipywidgets.readthedocs.io/en/stable/user_install.html\n",
      "  from .autonotebook import tqdm as notebook_tqdm\n"
     ]
    }
   ],
   "source": [
    "import pandas as pd\n",
    "import numpy as np\n",
    "from sklearn.model_selection import train_test_split\n",
    "from sklearn.linear_model import LogisticRegression\n",
    "from sklearn.ensemble import RandomForestClassifier\n",
    "from xgboost import XGBClassifier\n",
    "from sklearn.metrics import accuracy_score, precision_score, recall_score, f1_score, roc_auc_score, confusion_matrix, classification_report\n",
    "import shap\n",
    "import matplotlib.pyplot as plt\n",
    "import warnings\n",
    "warnings.filterwarnings(\"ignore\")\n"
   ]
  },
  {
   "cell_type": "code",
   "execution_count": 26,
   "id": "d21f5ae0",
   "metadata": {},
   "outputs": [],
   "source": [
    "# Load dataset\n",
    "file_path = r\"C:\\Users\\Kaleb\\OneDrive\\Desktop\\insurance-risk-modeling\\acis-insurance-risk-modeling\\data\\cleaned_insurance_data.csv\"\n",
    "df = pd.read_csv(file_path)\n",
    "\n"
   ]
  },
  {
   "cell_type": "code",
   "execution_count": 28,
   "id": "e9ab8a92",
   "metadata": {},
   "outputs": [],
   "source": [
    "# 📌 Step 3: Create Binary Target\n",
    "df[\"HadClaim\"] = df[\"TotalClaims\"] > 0"
   ]
  },
  {
   "cell_type": "code",
   "execution_count": 29,
   "id": "376d29d5",
   "metadata": {},
   "outputs": [],
   "source": [
    "# 🧼 Step 4: Define Feature Columns\n",
    "feature_cols = [\n",
    "    'IsVATRegistered', 'LegalType', 'Language', 'Bank', 'AccountType',\n",
    "    'MaritalStatus', 'Gender', 'Province', 'ItemType', 'VehicleType',\n",
    "    'RegistrationYear', 'make', 'Model', 'Cylinders', 'cubiccapacity',\n",
    "    'NumberOfDoors', 'VehicleIntroDate', 'CustomValueEstimate',\n",
    "    'AlarmImmobiliser', 'TrackingDevice', 'CapitalOutstanding',\n",
    "    'NewVehicle', 'WrittenOff', 'Rebuilt', 'Converted', 'SumInsured',\n",
    "    'TermFrequency', 'CalculatedPremiumPerTerm', 'ExcessSelected'\n",
    "]"
   ]
  },
  {
   "cell_type": "code",
   "execution_count": 30,
   "id": "5c08a867",
   "metadata": {},
   "outputs": [],
   "source": [
    "# 🧹 Step 5: Drop Missing Values\n",
    "df = df.dropna(subset=feature_cols + ['HadClaim'])"
   ]
  },
  {
   "cell_type": "code",
   "execution_count": 31,
   "id": "ea268eb2",
   "metadata": {},
   "outputs": [],
   "source": [
    "# 🔄 Step 6: One-Hot Encode Categorical Features\n",
    "df_encoded = pd.get_dummies(df[feature_cols], drop_first=True)"
   ]
  },
  {
   "cell_type": "code",
   "execution_count": 32,
   "id": "ac896105",
   "metadata": {},
   "outputs": [],
   "source": [
    "# 🎯 Step 7: Prepare X and y\n",
    "X = df_encoded.astype(float)\n",
    "y = df[\"HadClaim\"].astype(int)"
   ]
  },
  {
   "cell_type": "code",
   "execution_count": 33,
   "id": "39d7bb5b",
   "metadata": {},
   "outputs": [],
   "source": [
    "# ✂️ Step 8: Train-Test Split\n",
    "X_train, X_test, y_train, y_test = train_test_split(X, y, test_size=0.2, random_state=42)"
   ]
  },
  {
   "cell_type": "code",
   "execution_count": 38,
   "id": "13d37f1d",
   "metadata": {},
   "outputs": [],
   "source": [
    "models = {\n",
    "    \"LogisticRegression\": LogisticRegression(max_iter=1000, class_weight='balanced'),\n",
    "    \"RandomForest\": RandomForestClassifier(n_estimators=100, random_state=42, class_weight='balanced')\n",
    "}\n"
   ]
  },
  {
   "cell_type": "code",
   "execution_count": 39,
   "id": "b4282ff6",
   "metadata": {},
   "outputs": [
    {
     "name": "stdout",
     "output_type": "stream",
     "text": [
      "\n",
      "🔍 Model: LogisticRegression\n",
      "✅ Accuracy: 0.7878\n",
      "🎯 Precision: 0.0055, Recall: 0.7925, F1-score: 0.0110\n",
      "📊 AUC-ROC: 0.8436\n",
      "              precision    recall  f1-score   support\n",
      "\n",
      "           0       1.00      0.79      0.88     71289\n",
      "           1       0.01      0.79      0.01       106\n",
      "\n",
      "    accuracy                           0.79     71395\n",
      "   macro avg       0.50      0.79      0.45     71395\n",
      "weighted avg       1.00      0.79      0.88     71395\n",
      "\n",
      "------------------------------------------------------------\n",
      "\n",
      "🔍 Model: RandomForest\n",
      "✅ Accuracy: 0.9841\n",
      "🎯 Precision: 0.0132, Recall: 0.1321, F1-score: 0.0240\n",
      "📊 AUC-ROC: 0.5876\n",
      "              precision    recall  f1-score   support\n",
      "\n",
      "           0       1.00      0.99      0.99     71289\n",
      "           1       0.01      0.13      0.02       106\n",
      "\n",
      "    accuracy                           0.98     71395\n",
      "   macro avg       0.51      0.56      0.51     71395\n",
      "weighted avg       1.00      0.98      0.99     71395\n",
      "\n",
      "------------------------------------------------------------\n"
     ]
    }
   ],
   "source": [
    "# 📈 Step 10: Train & Evaluate Models\n",
    "results = {}\n",
    "\n",
    "for name, model in models.items():\n",
    "    model.fit(X_train, y_train)\n",
    "    preds = model.predict(X_test)\n",
    "    probs = model.predict_proba(X_test)[:, 1]\n",
    "\n",
    "    accuracy = accuracy_score(y_test, preds)\n",
    "    precision = precision_score(y_test, preds, zero_division=0)\n",
    "    recall = recall_score(y_test, preds)\n",
    "    f1 = f1_score(y_test, preds)\n",
    "    auc = roc_auc_score(y_test, probs)\n",
    "\n",
    "    results[name] = {\n",
    "        'Accuracy': accuracy,\n",
    "        'Precision': precision,\n",
    "        'Recall': recall,\n",
    "        'F1-score': f1,\n",
    "        'AUC-ROC': auc\n",
    "    }\n",
    "\n",
    "    print(f\"\\n🔍 Model: {name}\")\n",
    "    print(f\"✅ Accuracy: {accuracy:.4f}\")\n",
    "    print(f\"🎯 Precision: {precision:.4f}, Recall: {recall:.4f}, F1-score: {f1:.4f}\")\n",
    "    print(f\"📊 AUC-ROC: {auc:.4f}\")\n",
    "    print(classification_report(y_test, preds))\n",
    "    print(\"-\" * 60)"
   ]
  },
  {
   "cell_type": "code",
   "execution_count": null,
   "id": "c8ca1589",
   "metadata": {},
   "outputs": [
    {
     "name": "stdout",
     "output_type": "stream",
     "text": [
      "              precision    recall  f1-score   support\n",
      "\n",
      "           0       1.00      0.99      0.99     71289\n",
      "           1       0.01      0.13      0.02       106\n",
      "\n",
      "    accuracy                           0.98     71395\n",
      "   macro avg       0.51      0.56      0.51     71395\n",
      "weighted avg       1.00      0.98      0.99     71395\n",
      "\n",
      "AUC-ROC: 0.5876247281527729\n"
     ]
    }
   ],
   "source": [
    "new_threshold = 0.3 \n",
    "adjusted_preds = (probs >= new_threshold).astype(int)\n",
    "\n",
    "# Evaluates again\n",
    "print(classification_report(y_test, adjusted_preds))\n",
    "print(\"AUC-ROC:\", roc_auc_score(y_test, probs))\n"
   ]
  },
  {
   "cell_type": "code",
   "execution_count": null,
   "id": "6b5ae563",
   "metadata": {},
   "outputs": [],
   "source": []
  }
 ],
 "metadata": {
  "kernelspec": {
   "display_name": ".venv",
   "language": "python",
   "name": "python3"
  },
  "language_info": {
   "codemirror_mode": {
    "name": "ipython",
    "version": 3
   },
   "file_extension": ".py",
   "mimetype": "text/x-python",
   "name": "python",
   "nbconvert_exporter": "python",
   "pygments_lexer": "ipython3",
   "version": "3.12.4"
  }
 },
 "nbformat": 4,
 "nbformat_minor": 5
}
