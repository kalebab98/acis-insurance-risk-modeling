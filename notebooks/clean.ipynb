{
 "cells": [
  {
   "cell_type": "code",
   "execution_count": 1,
   "id": "fc1b0c61",
   "metadata": {},
   "outputs": [],
   "source": [
    "import pandas as pd\n",
    "import seaborn as sns\n",
    "import matplotlib.pyplot as plt"
   ]
  },
  {
   "cell_type": "code",
   "execution_count": null,
   "id": "53e9acaf",
   "metadata": {},
   "outputs": [
    {
     "name": "stderr",
     "output_type": "stream",
     "text": [
      "C:\\Users\\Kaleb\\AppData\\Local\\Temp\\ipykernel_11540\\4096550971.py:5: DtypeWarning: Columns (32,37) have mixed types. Specify dtype option on import or set low_memory=False.\n",
      "  df = pd.read_csv(file_path, sep='|')\n"
     ]
    }
   ],
   "source": [
    "# Full path to the file\n",
    "file_path = r\"C:\\Users\\Kaleb\\Downloads\\Technical Content-20250612T081638Z-1-001\\MachineLearningRating_v3\\MachineLearningRating_v3.txt\"\n",
    "\n",
    "df = pd.read_csv(file_path, sep='|')"
   ]
  },
  {
   "cell_type": "code",
   "execution_count": 217,
   "id": "3e6ee15b",
   "metadata": {},
   "outputs": [
    {
     "data": {
      "text/html": [
       "<div>\n",
       "<style scoped>\n",
       "    .dataframe tbody tr th:only-of-type {\n",
       "        vertical-align: middle;\n",
       "    }\n",
       "\n",
       "    .dataframe tbody tr th {\n",
       "        vertical-align: top;\n",
       "    }\n",
       "\n",
       "    .dataframe thead th {\n",
       "        text-align: right;\n",
       "    }\n",
       "</style>\n",
       "<table border=\"1\" class=\"dataframe\">\n",
       "  <thead>\n",
       "    <tr style=\"text-align: right;\">\n",
       "      <th></th>\n",
       "      <th>UnderwrittenCoverID</th>\n",
       "      <th>PolicyID</th>\n",
       "      <th>TransactionMonth</th>\n",
       "      <th>IsVATRegistered</th>\n",
       "      <th>Citizenship</th>\n",
       "      <th>LegalType</th>\n",
       "      <th>Title</th>\n",
       "      <th>Language</th>\n",
       "      <th>Bank</th>\n",
       "      <th>AccountType</th>\n",
       "      <th>...</th>\n",
       "      <th>ExcessSelected</th>\n",
       "      <th>CoverCategory</th>\n",
       "      <th>CoverType</th>\n",
       "      <th>CoverGroup</th>\n",
       "      <th>Section</th>\n",
       "      <th>Product</th>\n",
       "      <th>StatutoryClass</th>\n",
       "      <th>StatutoryRiskType</th>\n",
       "      <th>TotalPremium</th>\n",
       "      <th>TotalClaims</th>\n",
       "    </tr>\n",
       "  </thead>\n",
       "  <tbody>\n",
       "    <tr>\n",
       "      <th>0</th>\n",
       "      <td>145249</td>\n",
       "      <td>12827</td>\n",
       "      <td>2015-03-01 00:00:00</td>\n",
       "      <td>True</td>\n",
       "      <td></td>\n",
       "      <td>Close Corporation</td>\n",
       "      <td>Mr</td>\n",
       "      <td>English</td>\n",
       "      <td>First National Bank</td>\n",
       "      <td>Current account</td>\n",
       "      <td>...</td>\n",
       "      <td>Mobility - Windscreen</td>\n",
       "      <td>Windscreen</td>\n",
       "      <td>Windscreen</td>\n",
       "      <td>Comprehensive - Taxi</td>\n",
       "      <td>Motor Comprehensive</td>\n",
       "      <td>Mobility Metered Taxis: Monthly</td>\n",
       "      <td>Commercial</td>\n",
       "      <td>IFRS Constant</td>\n",
       "      <td>21.929825</td>\n",
       "      <td>0.0</td>\n",
       "    </tr>\n",
       "    <tr>\n",
       "      <th>1</th>\n",
       "      <td>145249</td>\n",
       "      <td>12827</td>\n",
       "      <td>2015-05-01 00:00:00</td>\n",
       "      <td>True</td>\n",
       "      <td></td>\n",
       "      <td>Close Corporation</td>\n",
       "      <td>Mr</td>\n",
       "      <td>English</td>\n",
       "      <td>First National Bank</td>\n",
       "      <td>Current account</td>\n",
       "      <td>...</td>\n",
       "      <td>Mobility - Windscreen</td>\n",
       "      <td>Windscreen</td>\n",
       "      <td>Windscreen</td>\n",
       "      <td>Comprehensive - Taxi</td>\n",
       "      <td>Motor Comprehensive</td>\n",
       "      <td>Mobility Metered Taxis: Monthly</td>\n",
       "      <td>Commercial</td>\n",
       "      <td>IFRS Constant</td>\n",
       "      <td>21.929825</td>\n",
       "      <td>0.0</td>\n",
       "    </tr>\n",
       "    <tr>\n",
       "      <th>2</th>\n",
       "      <td>145249</td>\n",
       "      <td>12827</td>\n",
       "      <td>2015-07-01 00:00:00</td>\n",
       "      <td>True</td>\n",
       "      <td></td>\n",
       "      <td>Close Corporation</td>\n",
       "      <td>Mr</td>\n",
       "      <td>English</td>\n",
       "      <td>First National Bank</td>\n",
       "      <td>Current account</td>\n",
       "      <td>...</td>\n",
       "      <td>Mobility - Windscreen</td>\n",
       "      <td>Windscreen</td>\n",
       "      <td>Windscreen</td>\n",
       "      <td>Comprehensive - Taxi</td>\n",
       "      <td>Motor Comprehensive</td>\n",
       "      <td>Mobility Metered Taxis: Monthly</td>\n",
       "      <td>Commercial</td>\n",
       "      <td>IFRS Constant</td>\n",
       "      <td>0.000000</td>\n",
       "      <td>0.0</td>\n",
       "    </tr>\n",
       "    <tr>\n",
       "      <th>3</th>\n",
       "      <td>145255</td>\n",
       "      <td>12827</td>\n",
       "      <td>2015-05-01 00:00:00</td>\n",
       "      <td>True</td>\n",
       "      <td></td>\n",
       "      <td>Close Corporation</td>\n",
       "      <td>Mr</td>\n",
       "      <td>English</td>\n",
       "      <td>First National Bank</td>\n",
       "      <td>Current account</td>\n",
       "      <td>...</td>\n",
       "      <td>Mobility - Metered Taxis - R2000</td>\n",
       "      <td>Own damage</td>\n",
       "      <td>Own Damage</td>\n",
       "      <td>Comprehensive - Taxi</td>\n",
       "      <td>Motor Comprehensive</td>\n",
       "      <td>Mobility Metered Taxis: Monthly</td>\n",
       "      <td>Commercial</td>\n",
       "      <td>IFRS Constant</td>\n",
       "      <td>512.848070</td>\n",
       "      <td>0.0</td>\n",
       "    </tr>\n",
       "    <tr>\n",
       "      <th>4</th>\n",
       "      <td>145255</td>\n",
       "      <td>12827</td>\n",
       "      <td>2015-07-01 00:00:00</td>\n",
       "      <td>True</td>\n",
       "      <td></td>\n",
       "      <td>Close Corporation</td>\n",
       "      <td>Mr</td>\n",
       "      <td>English</td>\n",
       "      <td>First National Bank</td>\n",
       "      <td>Current account</td>\n",
       "      <td>...</td>\n",
       "      <td>Mobility - Metered Taxis - R2000</td>\n",
       "      <td>Own damage</td>\n",
       "      <td>Own Damage</td>\n",
       "      <td>Comprehensive - Taxi</td>\n",
       "      <td>Motor Comprehensive</td>\n",
       "      <td>Mobility Metered Taxis: Monthly</td>\n",
       "      <td>Commercial</td>\n",
       "      <td>IFRS Constant</td>\n",
       "      <td>0.000000</td>\n",
       "      <td>0.0</td>\n",
       "    </tr>\n",
       "  </tbody>\n",
       "</table>\n",
       "<p>5 rows × 52 columns</p>\n",
       "</div>"
      ],
      "text/plain": [
       "   UnderwrittenCoverID  PolicyID     TransactionMonth  IsVATRegistered  \\\n",
       "0               145249     12827  2015-03-01 00:00:00             True   \n",
       "1               145249     12827  2015-05-01 00:00:00             True   \n",
       "2               145249     12827  2015-07-01 00:00:00             True   \n",
       "3               145255     12827  2015-05-01 00:00:00             True   \n",
       "4               145255     12827  2015-07-01 00:00:00             True   \n",
       "\n",
       "  Citizenship          LegalType Title Language                 Bank  \\\n",
       "0              Close Corporation    Mr  English  First National Bank   \n",
       "1              Close Corporation    Mr  English  First National Bank   \n",
       "2              Close Corporation    Mr  English  First National Bank   \n",
       "3              Close Corporation    Mr  English  First National Bank   \n",
       "4              Close Corporation    Mr  English  First National Bank   \n",
       "\n",
       "       AccountType  ...                    ExcessSelected CoverCategory  \\\n",
       "0  Current account  ...             Mobility - Windscreen    Windscreen   \n",
       "1  Current account  ...             Mobility - Windscreen    Windscreen   \n",
       "2  Current account  ...             Mobility - Windscreen    Windscreen   \n",
       "3  Current account  ...  Mobility - Metered Taxis - R2000    Own damage   \n",
       "4  Current account  ...  Mobility - Metered Taxis - R2000    Own damage   \n",
       "\n",
       "    CoverType            CoverGroup              Section  \\\n",
       "0  Windscreen  Comprehensive - Taxi  Motor Comprehensive   \n",
       "1  Windscreen  Comprehensive - Taxi  Motor Comprehensive   \n",
       "2  Windscreen  Comprehensive - Taxi  Motor Comprehensive   \n",
       "3  Own Damage  Comprehensive - Taxi  Motor Comprehensive   \n",
       "4  Own Damage  Comprehensive - Taxi  Motor Comprehensive   \n",
       "\n",
       "                           Product StatutoryClass StatutoryRiskType  \\\n",
       "0  Mobility Metered Taxis: Monthly     Commercial     IFRS Constant   \n",
       "1  Mobility Metered Taxis: Monthly     Commercial     IFRS Constant   \n",
       "2  Mobility Metered Taxis: Monthly     Commercial     IFRS Constant   \n",
       "3  Mobility Metered Taxis: Monthly     Commercial     IFRS Constant   \n",
       "4  Mobility Metered Taxis: Monthly     Commercial     IFRS Constant   \n",
       "\n",
       "   TotalPremium TotalClaims  \n",
       "0     21.929825         0.0  \n",
       "1     21.929825         0.0  \n",
       "2      0.000000         0.0  \n",
       "3    512.848070         0.0  \n",
       "4      0.000000         0.0  \n",
       "\n",
       "[5 rows x 52 columns]"
      ]
     },
     "execution_count": 217,
     "metadata": {},
     "output_type": "execute_result"
    }
   ],
   "source": [
    "df.head()"
   ]
  },
  {
   "cell_type": "code",
   "execution_count": null,
   "id": "2fbe469b",
   "metadata": {},
   "outputs": [
    {
     "data": {
      "text/plain": [
       "UnderwrittenCoverID               0\n",
       "PolicyID                          0\n",
       "TransactionMonth                  0\n",
       "IsVATRegistered                   0\n",
       "Citizenship                       0\n",
       "LegalType                         0\n",
       "Title                             0\n",
       "Language                          0\n",
       "Bank                         145961\n",
       "AccountType                   40232\n",
       "MaritalStatus                  8259\n",
       "Gender                         9536\n",
       "Country                           0\n",
       "Province                          0\n",
       "PostalCode                        0\n",
       "MainCrestaZone                    0\n",
       "SubCrestaZone                     0\n",
       "ItemType                          0\n",
       "mmcode                          552\n",
       "VehicleType                     552\n",
       "RegistrationYear                  0\n",
       "make                            552\n",
       "Model                           552\n",
       "Cylinders                       552\n",
       "cubiccapacity                   552\n",
       "kilowatts                       552\n",
       "bodytype                        552\n",
       "NumberOfDoors                   552\n",
       "VehicleIntroDate                552\n",
       "CustomValueEstimate          779642\n",
       "AlarmImmobiliser                  0\n",
       "TrackingDevice                    0\n",
       "CapitalOutstanding                2\n",
       "NewVehicle                   153295\n",
       "WrittenOff                   641901\n",
       "Rebuilt                      641901\n",
       "Converted                    641901\n",
       "CrossBorder                  999400\n",
       "NumberOfVehiclesInFleet     1000098\n",
       "SumInsured                        0\n",
       "TermFrequency                     0\n",
       "CalculatedPremiumPerTerm          0\n",
       "ExcessSelected                    0\n",
       "CoverCategory                     0\n",
       "CoverType                         0\n",
       "CoverGroup                        0\n",
       "Section                           0\n",
       "Product                           0\n",
       "StatutoryClass                    0\n",
       "StatutoryRiskType                 0\n",
       "TotalPremium                      0\n",
       "TotalClaims                       0\n",
       "dtype: int64"
      ]
     },
     "execution_count": 218,
     "metadata": {},
     "output_type": "execute_result"
    }
   ],
   "source": [
    "df.isnull().sum()"
   ]
  },
  {
   "cell_type": "code",
   "execution_count": 220,
   "id": "6fe40a0a",
   "metadata": {},
   "outputs": [
    {
     "data": {
      "text/plain": [
       "UnderwrittenCoverID               0\n",
       "PolicyID                          0\n",
       "TransactionMonth                  0\n",
       "IsVATRegistered                   0\n",
       "Citizenship                       0\n",
       "LegalType                         0\n",
       "Title                             0\n",
       "Language                          0\n",
       "Bank                         145961\n",
       "AccountType                   40232\n",
       "MaritalStatus                  8259\n",
       "Gender                         9536\n",
       "Country                           0\n",
       "Province                          0\n",
       "PostalCode                        0\n",
       "MainCrestaZone                    0\n",
       "SubCrestaZone                     0\n",
       "ItemType                          0\n",
       "mmcode                          552\n",
       "VehicleType                     552\n",
       "RegistrationYear                  0\n",
       "make                            552\n",
       "Model                           552\n",
       "Cylinders                       552\n",
       "cubiccapacity                   552\n",
       "kilowatts                       552\n",
       "bodytype                        552\n",
       "NumberOfDoors                   552\n",
       "VehicleIntroDate                552\n",
       "CustomValueEstimate          779642\n",
       "AlarmImmobiliser                  0\n",
       "TrackingDevice                    0\n",
       "CapitalOutstanding                2\n",
       "NewVehicle                   153295\n",
       "WrittenOff                   641901\n",
       "Rebuilt                      641901\n",
       "Converted                    641901\n",
       "CrossBorder                  999400\n",
       "NumberOfVehiclesInFleet     1000098\n",
       "SumInsured                        0\n",
       "TermFrequency                     0\n",
       "CalculatedPremiumPerTerm          0\n",
       "ExcessSelected                    0\n",
       "CoverCategory                     0\n",
       "CoverType                         0\n",
       "CoverGroup                        0\n",
       "Section                           0\n",
       "Product                           0\n",
       "StatutoryClass                    0\n",
       "StatutoryRiskType                 0\n",
       "TotalPremium                      0\n",
       "TotalClaims                       0\n",
       "dtype: int64"
      ]
     },
     "execution_count": 220,
     "metadata": {},
     "output_type": "execute_result"
    }
   ],
   "source": [
    "df.isnull().sum()\n"
   ]
  },
  {
   "cell_type": "code",
   "execution_count": 221,
   "id": "2d8718e8",
   "metadata": {},
   "outputs": [
    {
     "name": "stdout",
     "output_type": "stream",
     "text": [
      "🧹 Dropped columns: ['CrossBorder', 'NumberOfVehiclesInFleet']\n"
     ]
    }
   ],
   "source": [
    "# Cell 3: Drop columns that are nearly all missing\n",
    "drop_cols = ['CrossBorder', 'NumberOfVehiclesInFleet']\n",
    "df.drop(columns=[col for col in drop_cols if col in df.columns], inplace=True)\n",
    "print(\"🧹 Dropped columns:\", drop_cols)\n"
   ]
  },
  {
   "cell_type": "code",
   "execution_count": 222,
   "id": "d07c31db",
   "metadata": {},
   "outputs": [
    {
     "name": "stdout",
     "output_type": "stream",
     "text": [
      "📌 Filled missing in Gender with mode: Not specified\n",
      "📌 Filled missing in MaritalStatus with mode: Not specified\n",
      "📌 Filled missing in AccountType with mode: Current account\n",
      "📌 Filled missing in Bank with mode: First National Bank\n"
     ]
    },
    {
     "name": "stderr",
     "output_type": "stream",
     "text": [
      "C:\\Users\\Kaleb\\AppData\\Local\\Temp\\ipykernel_11540\\1696458970.py:5: FutureWarning: A value is trying to be set on a copy of a DataFrame or Series through chained assignment using an inplace method.\n",
      "The behavior will change in pandas 3.0. This inplace method will never work because the intermediate object on which we are setting values always behaves as a copy.\n",
      "\n",
      "For example, when doing 'df[col].method(value, inplace=True)', try using 'df.method({col: value}, inplace=True)' or df[col] = df[col].method(value) instead, to perform the operation inplace on the original object.\n",
      "\n",
      "\n",
      "  df[col].fillna(mode_val, inplace=True)\n"
     ]
    }
   ],
   "source": [
    "\n",
    "categorical_fill_mode = ['Gender', 'MaritalStatus', 'AccountType', 'Bank']\n",
    "for col in categorical_fill_mode:\n",
    "    if col in df.columns:\n",
    "        mode_val = df[col].mode()[0]\n",
    "        df[col].fillna(mode_val, inplace=True)\n",
    "        print(f\"📌 Filled missing in {col} with mode: {mode_val}\")\n"
   ]
  },
  {
   "cell_type": "code",
   "execution_count": 223,
   "id": "75720c8c",
   "metadata": {},
   "outputs": [
    {
     "name": "stdout",
     "output_type": "stream",
     "text": [
      "🔢 Filled missing in CustomValueEstimate with median: 220000.0\n",
      "🔢 Filled missing in Cylinders with median: 4.0\n",
      "🔢 Filled missing in cubiccapacity with median: 2694.0\n",
      "🔢 Filled missing in kilowatts with median: 111.0\n",
      "🔢 Filled missing in NumberOfDoors with median: 4.0\n"
     ]
    },
    {
     "name": "stderr",
     "output_type": "stream",
     "text": [
      "C:\\Users\\Kaleb\\AppData\\Local\\Temp\\ipykernel_11540\\1524204806.py:6: FutureWarning: A value is trying to be set on a copy of a DataFrame or Series through chained assignment using an inplace method.\n",
      "The behavior will change in pandas 3.0. This inplace method will never work because the intermediate object on which we are setting values always behaves as a copy.\n",
      "\n",
      "For example, when doing 'df[col].method(value, inplace=True)', try using 'df.method({col: value}, inplace=True)' or df[col] = df[col].method(value) instead, to perform the operation inplace on the original object.\n",
      "\n",
      "\n",
      "  df[col].fillna(median_val, inplace=True)\n",
      "C:\\Users\\Kaleb\\AppData\\Local\\Temp\\ipykernel_11540\\1524204806.py:6: FutureWarning: A value is trying to be set on a copy of a DataFrame or Series through chained assignment using an inplace method.\n",
      "The behavior will change in pandas 3.0. This inplace method will never work because the intermediate object on which we are setting values always behaves as a copy.\n",
      "\n",
      "For example, when doing 'df[col].method(value, inplace=True)', try using 'df.method({col: value}, inplace=True)' or df[col] = df[col].method(value) instead, to perform the operation inplace on the original object.\n",
      "\n",
      "\n",
      "  df[col].fillna(median_val, inplace=True)\n",
      "C:\\Users\\Kaleb\\AppData\\Local\\Temp\\ipykernel_11540\\1524204806.py:6: FutureWarning: A value is trying to be set on a copy of a DataFrame or Series through chained assignment using an inplace method.\n",
      "The behavior will change in pandas 3.0. This inplace method will never work because the intermediate object on which we are setting values always behaves as a copy.\n",
      "\n",
      "For example, when doing 'df[col].method(value, inplace=True)', try using 'df.method({col: value}, inplace=True)' or df[col] = df[col].method(value) instead, to perform the operation inplace on the original object.\n",
      "\n",
      "\n",
      "  df[col].fillna(median_val, inplace=True)\n",
      "C:\\Users\\Kaleb\\AppData\\Local\\Temp\\ipykernel_11540\\1524204806.py:6: FutureWarning: A value is trying to be set on a copy of a DataFrame or Series through chained assignment using an inplace method.\n",
      "The behavior will change in pandas 3.0. This inplace method will never work because the intermediate object on which we are setting values always behaves as a copy.\n",
      "\n",
      "For example, when doing 'df[col].method(value, inplace=True)', try using 'df.method({col: value}, inplace=True)' or df[col] = df[col].method(value) instead, to perform the operation inplace on the original object.\n",
      "\n",
      "\n",
      "  df[col].fillna(median_val, inplace=True)\n",
      "C:\\Users\\Kaleb\\AppData\\Local\\Temp\\ipykernel_11540\\1524204806.py:6: FutureWarning: A value is trying to be set on a copy of a DataFrame or Series through chained assignment using an inplace method.\n",
      "The behavior will change in pandas 3.0. This inplace method will never work because the intermediate object on which we are setting values always behaves as a copy.\n",
      "\n",
      "For example, when doing 'df[col].method(value, inplace=True)', try using 'df.method({col: value}, inplace=True)' or df[col] = df[col].method(value) instead, to perform the operation inplace on the original object.\n",
      "\n",
      "\n",
      "  df[col].fillna(median_val, inplace=True)\n"
     ]
    }
   ],
   "source": [
    "# Cell 5: Fill missing numeric columns with median\n",
    "numeric_cols = ['CustomValueEstimate', 'Cylinders', 'cubiccapacity', 'kilowatts', 'NumberOfDoors']\n",
    "for col in numeric_cols:\n",
    "    if col in df.columns:\n",
    "        median_val = df[col].median()\n",
    "        df[col].fillna(median_val, inplace=True)\n",
    "        print(f\"🔢 Filled missing in {col} with median: {median_val}\")\n"
   ]
  },
  {
   "cell_type": "code",
   "execution_count": 225,
   "id": "3938f041",
   "metadata": {},
   "outputs": [
    {
     "name": "stdout",
     "output_type": "stream",
     "text": [
      "🧾 Dropped rows with missing TotalClaims or TotalPremium. Shape: (1000098, 50)\n"
     ]
    }
   ],
   "source": [
    "\n",
    "df.dropna(subset=['TotalClaims', 'TotalPremium'], inplace=True)\n",
    "print(\"🧾 Dropped rows with missing TotalClaims or TotalPremium. Shape:\", df.shape)\n"
   ]
  },
  {
   "cell_type": "code",
   "execution_count": 227,
   "id": "ed1ed501",
   "metadata": {},
   "outputs": [
    {
     "name": "stdout",
     "output_type": "stream",
     "text": [
      "🚫 Removed outliers in TotalClaims: 1001 rows removed\n",
      "🚫 Removed outliers in TotalPremium: 999 rows removed\n",
      "🚫 Removed outliers in CustomValueEstimate: 979 rows removed\n"
     ]
    }
   ],
   "source": [
    "# Cell 8: Remove extreme outliers (99.9 percentile)\n",
    "for col in ['TotalClaims', 'TotalPremium', 'CustomValueEstimate']:\n",
    "    if col in df.columns:\n",
    "        upper_limit = df[col].quantile(0.999)\n",
    "        before = df.shape[0]\n",
    "        df = df[df[col] <= upper_limit]\n",
    "        after = df.shape[0]\n",
    "        print(f\"🚫 Removed outliers in {col}: {before - after} rows removed\")\n"
   ]
  },
  {
   "cell_type": "code",
   "execution_count": 230,
   "id": "0e9de332",
   "metadata": {},
   "outputs": [
    {
     "name": "stdout",
     "output_type": "stream",
     "text": [
      "📅 Added derived columns: HasClaim, Month, Year\n"
     ]
    },
    {
     "data": {
      "text/html": [
       "<div>\n",
       "<style scoped>\n",
       "    .dataframe tbody tr th:only-of-type {\n",
       "        vertical-align: middle;\n",
       "    }\n",
       "\n",
       "    .dataframe tbody tr th {\n",
       "        vertical-align: top;\n",
       "    }\n",
       "\n",
       "    .dataframe thead th {\n",
       "        text-align: right;\n",
       "    }\n",
       "</style>\n",
       "<table border=\"1\" class=\"dataframe\">\n",
       "  <thead>\n",
       "    <tr style=\"text-align: right;\">\n",
       "      <th></th>\n",
       "      <th>TransactionMonth</th>\n",
       "      <th>Month</th>\n",
       "      <th>Year</th>\n",
       "      <th>HasClaim</th>\n",
       "    </tr>\n",
       "  </thead>\n",
       "  <tbody>\n",
       "    <tr>\n",
       "      <th>0</th>\n",
       "      <td>2015-03-01</td>\n",
       "      <td>3</td>\n",
       "      <td>2015</td>\n",
       "      <td>False</td>\n",
       "    </tr>\n",
       "    <tr>\n",
       "      <th>1</th>\n",
       "      <td>2015-05-01</td>\n",
       "      <td>5</td>\n",
       "      <td>2015</td>\n",
       "      <td>False</td>\n",
       "    </tr>\n",
       "    <tr>\n",
       "      <th>2</th>\n",
       "      <td>2015-07-01</td>\n",
       "      <td>7</td>\n",
       "      <td>2015</td>\n",
       "      <td>False</td>\n",
       "    </tr>\n",
       "    <tr>\n",
       "      <th>3</th>\n",
       "      <td>2015-05-01</td>\n",
       "      <td>5</td>\n",
       "      <td>2015</td>\n",
       "      <td>False</td>\n",
       "    </tr>\n",
       "    <tr>\n",
       "      <th>4</th>\n",
       "      <td>2015-07-01</td>\n",
       "      <td>7</td>\n",
       "      <td>2015</td>\n",
       "      <td>False</td>\n",
       "    </tr>\n",
       "  </tbody>\n",
       "</table>\n",
       "</div>"
      ],
      "text/plain": [
       "  TransactionMonth  Month  Year  HasClaim\n",
       "0       2015-03-01      3  2015     False\n",
       "1       2015-05-01      5  2015     False\n",
       "2       2015-07-01      7  2015     False\n",
       "3       2015-05-01      5  2015     False\n",
       "4       2015-07-01      7  2015     False"
      ]
     },
     "execution_count": 230,
     "metadata": {},
     "output_type": "execute_result"
    }
   ],
   "source": [
    "# Cell 7: Add derived features\n",
    "\n",
    "# Ensure TransactionMonth is datetime (in case read_csv parsing failed)\n",
    "df['TransactionMonth'] = pd.to_datetime(df['TransactionMonth'], errors='coerce')\n",
    "\n",
    "# Drop rows where TransactionMonth couldn't be parsed\n",
    "df = df.dropna(subset=['TransactionMonth'])\n",
    "\n",
    "# Now add derived columns\n",
    "df['HasClaim'] = df['TotalClaims'] > 0\n",
    "df['Month'] = df['TransactionMonth'].dt.month\n",
    "df['Year'] = df['TransactionMonth'].dt.year\n",
    "\n",
    "print(\"📅 Added derived columns: HasClaim, Month, Year\")\n",
    "df[['TransactionMonth', 'Month', 'Year', 'HasClaim']].head()\n"
   ]
  },
  {
   "cell_type": "code",
   "execution_count": 232,
   "id": "ce359f40",
   "metadata": {},
   "outputs": [
    {
     "name": "stdout",
     "output_type": "stream",
     "text": [
      "✅ Cleaned data saved to: C:\\Users\\Kaleb\\OneDrive\\Desktop\\insurance-risk-modeling\\acis-insurance-risk-modeling\\data\\cleaned_insurance_data.csv\n"
     ]
    }
   ],
   "source": [
    "import os\n",
    "\n",
    "output_dir = r\"C:\\Users\\Kaleb\\OneDrive\\Desktop\\insurance-risk-modeling\\acis-insurance-risk-modeling\\data\"\n",
    "\n",
    "os.makedirs(output_dir, exist_ok=True)\n",
    "\n",
    "# Save the cleaned file\n",
    "output_path = os.path.join(output_dir, \"cleaned_insurance_data.csv\")\n",
    "df.to_csv(output_path, index=False)\n",
    "print(f\"✅ Cleaned data saved to: {output_path}\")\n"
   ]
  }
 ],
 "metadata": {
  "kernelspec": {
   "display_name": ".venv",
   "language": "python",
   "name": "python3"
  },
  "language_info": {
   "codemirror_mode": {
    "name": "ipython",
    "version": 3
   },
   "file_extension": ".py",
   "mimetype": "text/x-python",
   "name": "python",
   "nbconvert_exporter": "python",
   "pygments_lexer": "ipython3",
   "version": "3.12.4"
  }
 },
 "nbformat": 4,
 "nbformat_minor": 5
}
